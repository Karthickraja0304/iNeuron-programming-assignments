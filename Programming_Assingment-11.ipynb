{
 "cells": [
  {
   "cell_type": "code",
   "execution_count": null,
   "id": "95b998e6",
   "metadata": {},
   "outputs": [],
   "source": [
    "1.\tWrite a Python program to find words which are greater than given length k?"
   ]
  },
  {
   "cell_type": "code",
   "execution_count": 1,
   "id": "392c20c9",
   "metadata": {},
   "outputs": [
    {
     "name": "stdout",
     "output_type": "stream",
     "text": [
      "Enter the string : karthick is a good guy\n",
      "Enter the lenth K : 2\n",
      "\n",
      "The original string ' karthick is a good guy '\n",
      "Words greater than k2\n",
      "['karthick', 'good', 'guy']\n"
     ]
    }
   ],
   "source": [
    "#Ans\n",
    "def Biggerthank(k,str):\n",
    "    txt = str.split()\n",
    "    Wordlist = []\n",
    "    for i in txt:\n",
    "        if len(i) > k:\n",
    "            Wordlist.append(i)\n",
    "    return Wordlist\n",
    "\n",
    "str = input(\"Enter the string : \")\n",
    "k = int(input(\"Enter the lenth K : \"))\n",
    "\n",
    "Wordlist = Biggerthank(k,str)\n",
    "\n",
    "print(\"\\nThe original string ' {} '\".format(str))\n",
    "\n",
    "print(\"Words greater than k{}\".format(k))\n",
    "print(Wordlist)"
   ]
  },
  {
   "cell_type": "code",
   "execution_count": null,
   "id": "1ad5ca4c",
   "metadata": {},
   "outputs": [],
   "source": []
  },
  {
   "cell_type": "code",
   "execution_count": null,
   "id": "e06a4fe8",
   "metadata": {},
   "outputs": [],
   "source": [
    "2.\tWrite a Python program for removing i-th character from a string?"
   ]
  },
  {
   "cell_type": "code",
   "execution_count": 2,
   "id": "1b368442",
   "metadata": {},
   "outputs": [
    {
     "name": "stdout",
     "output_type": "stream",
     "text": [
      "Enter the string : karthick is a good guy\n",
      "Enter the index : 5\n",
      "The new string :  karthck is a good guy\n"
     ]
    }
   ],
   "source": [
    "#Ans\n",
    "def remove(str, i): \n",
    "  \n",
    "    for j in range(len(str)):\n",
    "        if j == i:\n",
    "            str = str.replace(str[i], \"\", 1)\n",
    "    return str      \n",
    "\n",
    "str = input(\"Enter the string : \")\n",
    "i = int(input(\"Enter the index : \"))      \n",
    "\n",
    "# Print the new string\n",
    "\n",
    "print(\"The new string : \", remove(str, i))"
   ]
  },
  {
   "cell_type": "code",
   "execution_count": null,
   "id": "55ae09d6",
   "metadata": {},
   "outputs": [],
   "source": []
  },
  {
   "cell_type": "code",
   "execution_count": null,
   "id": "f18796e6",
   "metadata": {},
   "outputs": [],
   "source": [
    "3.\tWrite a Python program to split and join a string?"
   ]
  },
  {
   "cell_type": "code",
   "execution_count": 3,
   "id": "36d5aeca",
   "metadata": {},
   "outputs": [
    {
     "name": "stdout",
     "output_type": "stream",
     "text": [
      "Spliting a string :  ['I', 'love', 'coding']\n",
      "Joining a string :  I-love-coding\n"
     ]
    }
   ],
   "source": [
    "#Ans\n",
    "str = \"I love coding\"\n",
    "str = str.split(\" \") \n",
    "print(\"Spliting a string : \",str)\n",
    "\n",
    "\n",
    "str2 = \"-\".join(str)\n",
    "print(\"Joining a string : \",str2)"
   ]
  },
  {
   "cell_type": "code",
   "execution_count": null,
   "id": "651836e4",
   "metadata": {},
   "outputs": [],
   "source": []
  },
  {
   "cell_type": "code",
   "execution_count": null,
   "id": "3d1ec9f3",
   "metadata": {},
   "outputs": [],
   "source": [
    "4.\tWrite a Python to check if a given string is binary string or not?"
   ]
  },
  {
   "cell_type": "code",
   "execution_count": 4,
   "id": "fd6e5235",
   "metadata": {},
   "outputs": [
    {
     "name": "stdout",
     "output_type": "stream",
     "text": [
      "Enter the string : karthick is a good guy\n",
      "Not Binary\n"
     ]
    }
   ],
   "source": [
    "#Ans\n",
    "def ifbinary(str):\n",
    "    binary = '01'\n",
    "    for i in range(len(str)):\n",
    "        if str[i] not in binary:\n",
    "            print('Not Binary')\n",
    "            break\n",
    "    else:\n",
    "        print('Binary')\n",
    "        \n",
    "str = input(\"Enter the string : \")\n",
    "ifbinary(str)"
   ]
  },
  {
   "cell_type": "code",
   "execution_count": null,
   "id": "27ccf9ef",
   "metadata": {},
   "outputs": [],
   "source": []
  },
  {
   "cell_type": "code",
   "execution_count": null,
   "id": "87bffec2",
   "metadata": {},
   "outputs": [],
   "source": [
    "5.\tWrite a Python program to find uncommon words from two Strings?"
   ]
  },
  {
   "cell_type": "code",
   "execution_count": 5,
   "id": "f91bc418",
   "metadata": {},
   "outputs": [
    {
     "name": "stdout",
     "output_type": "stream",
     "text": [
      "Enter the string a : karthick is a good guy\n",
      "Enter the string b : kalki was a bad fellow\n",
      "The list of un Common words :   karthick is good guy kalki was bad fellow\n"
     ]
    }
   ],
   "source": [
    "#Ans\n",
    "def unCommon(a,b):\n",
    "    list_one = a.split()\n",
    "    list_two = b.split()\n",
    "    notcom =''\n",
    "    \n",
    "    for i in list_one:\n",
    "        if i not in list_two:\n",
    "            notcom = notcom +\" \"+ i\n",
    "    for j in list_two:\n",
    "        if j not in list_one:\n",
    "            notcom = notcom +\" \"+ j\n",
    "    return notcom\n",
    "\n",
    "a = input(\"Enter the string a : \").lower()\n",
    "b = input(\"Enter the string b : \").lower()\n",
    "\n",
    "print(\"The list of un Common words : \", unCommon(a,b))"
   ]
  },
  {
   "cell_type": "code",
   "execution_count": null,
   "id": "3b43f824",
   "metadata": {},
   "outputs": [],
   "source": []
  },
  {
   "cell_type": "code",
   "execution_count": null,
   "id": "d1c7caf3",
   "metadata": {},
   "outputs": [],
   "source": [
    "6.\tWrite a Python to find all duplicate characters in string?"
   ]
  },
  {
   "cell_type": "code",
   "execution_count": 6,
   "id": "82a8ffe7",
   "metadata": {},
   "outputs": [
    {
     "name": "stdout",
     "output_type": "stream",
     "text": [
      "Enter the string a : karthick is a good guy\n"
     ]
    },
    {
     "data": {
      "text/plain": [
       "['k', 'a', 'i', ' ', 'g', 'o']"
      ]
     },
     "execution_count": 6,
     "metadata": {},
     "output_type": "execute_result"
    }
   ],
   "source": [
    "#Ans\n",
    "str = input(\"Enter the string a : \").lower()\n",
    "duplicate = []\n",
    "\n",
    "for i in str:\n",
    "    if str.count(i) > 1 :\n",
    "        if i not in duplicate:\n",
    "            duplicate.append(i)\n",
    "        \n",
    "duplicate"
   ]
  },
  {
   "cell_type": "code",
   "execution_count": null,
   "id": "4983e9de",
   "metadata": {},
   "outputs": [],
   "source": []
  },
  {
   "cell_type": "code",
   "execution_count": null,
   "id": "25f8393b",
   "metadata": {},
   "outputs": [],
   "source": [
    "7.\tWrite a Python Program to check if a string contains any special character?"
   ]
  },
  {
   "cell_type": "code",
   "execution_count": 8,
   "id": "3f0062c7",
   "metadata": {},
   "outputs": [
    {
     "name": "stdout",
     "output_type": "stream",
     "text": [
      "Enter the string a : karthick is a good guy @#$%\n",
      "String karthick is a good guy @#$% has special charecter/s : ['@', '#', '$', '%']\n"
     ]
    }
   ],
   "source": [
    "#Ans\n",
    "import string\n",
    "\n",
    "str_char = string.punctuation\n",
    "speci_str = []\n",
    "\n",
    "str = input(\"Enter the string a : \").lower()\n",
    "for i in str:\n",
    "    if i in str_char:\n",
    "        speci_str.append(i)\n",
    "if len(speci_str) > 0:\n",
    "    print(\"String {} has special charecter/s : {}\".format(str,speci_str))"
   ]
  },
  {
   "cell_type": "code",
   "execution_count": null,
   "id": "fb3442c1",
   "metadata": {},
   "outputs": [],
   "source": []
  }
 ],
 "metadata": {
  "kernelspec": {
   "display_name": "Python 3 (ipykernel)",
   "language": "python",
   "name": "python3"
  },
  "language_info": {
   "codemirror_mode": {
    "name": "ipython",
    "version": 3
   },
   "file_extension": ".py",
   "mimetype": "text/x-python",
   "name": "python",
   "nbconvert_exporter": "python",
   "pygments_lexer": "ipython3",
   "version": "3.9.12"
  }
 },
 "nbformat": 4,
 "nbformat_minor": 5
}
