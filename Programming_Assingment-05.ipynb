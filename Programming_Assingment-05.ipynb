{
 "cells": [
  {
   "cell_type": "code",
   "execution_count": null,
   "id": "f2a7f2b7",
   "metadata": {},
   "outputs": [],
   "source": [
    "1.\tWrite a Python Program to Find LCM?"
   ]
  },
  {
   "cell_type": "code",
   "execution_count": 1,
   "id": "6ccc270e",
   "metadata": {},
   "outputs": [
    {
     "name": "stdout",
     "output_type": "stream",
     "text": [
      "Enter num1 : 45\n",
      "Enter num2 : 5\n",
      "The LCM of 45 and 5 is 45\n"
     ]
    }
   ],
   "source": [
    "#Ans:\n",
    "x = int(input(\"Enter num1 : \"))\n",
    "y = int(input(\"Enter num2 : \"))\n",
    "\n",
    "# big no.\n",
    "if x > y:\n",
    "    big = x\n",
    "else:\n",
    "    big = y\n",
    "    \n",
    "while(True):\n",
    "    if big % x == 0 and big % y == 0 :\n",
    "        lcm = big\n",
    "        break\n",
    "    big+=1\n",
    "    \n",
    "print(\"The LCM of {} and {} is {}\".format(x,y,lcm))"
   ]
  },
  {
   "cell_type": "code",
   "execution_count": null,
   "id": "e43d5ec7",
   "metadata": {},
   "outputs": [],
   "source": []
  },
  {
   "cell_type": "code",
   "execution_count": null,
   "id": "70d3726b",
   "metadata": {},
   "outputs": [],
   "source": [
    "2.\tWrite a Python Program to Find HCF?\n"
   ]
  },
  {
   "cell_type": "code",
   "execution_count": 2,
   "id": "649be67b",
   "metadata": {},
   "outputs": [
    {
     "name": "stdout",
     "output_type": "stream",
     "text": [
      "Enter num1 : 458\n",
      "Enter num2 : 28\n",
      "The hcf of 458 and 28 is 2\n"
     ]
    }
   ],
   "source": [
    "#Ans:\n",
    "x = int(input(\"Enter num1 : \"))\n",
    "y = int(input(\"Enter num2 : \"))\n",
    "\n",
    "# big no\n",
    "if x < y:\n",
    "    small = x\n",
    "else:\n",
    "    small = y\n",
    "hcf = 0   \n",
    "for i in range(1,small+1):\n",
    "    if x % i == 0 and y % i == 0 :\n",
    "        hcf = i\n",
    "    \n",
    "print(\"The hcf of {} and {} is {}\".format(x,y,hcf))"
   ]
  },
  {
   "cell_type": "code",
   "execution_count": null,
   "id": "80d2e234",
   "metadata": {},
   "outputs": [],
   "source": []
  },
  {
   "cell_type": "code",
   "execution_count": null,
   "id": "ba86ce8d",
   "metadata": {},
   "outputs": [],
   "source": [
    "3.\tWrite a Python Program to Convert Decimal to Binary, Octal and Hexadecimal?\n"
   ]
  },
  {
   "cell_type": "code",
   "execution_count": 3,
   "id": "9bc0a4db",
   "metadata": {},
   "outputs": [
    {
     "name": "stdout",
     "output_type": "stream",
     "text": [
      "Enter number :4589\n",
      "4589 in binary :  0b1000111101101\n",
      "4589 in Octal :  0o10755\n",
      "4589 in Hexadecimal :  0x11ed\n"
     ]
    }
   ],
   "source": [
    "#Ans:\n",
    "x=int(input(\"Enter number :\"))\n",
    "\n",
    "print(x, \"in binary : \", bin(x))\n",
    "print(x, \"in Octal : \", oct(x))\n",
    "print(x, \"in Hexadecimal : \",hex(x))"
   ]
  },
  {
   "cell_type": "code",
   "execution_count": null,
   "id": "92a4bdb7",
   "metadata": {},
   "outputs": [],
   "source": []
  },
  {
   "cell_type": "code",
   "execution_count": null,
   "id": "c35c838f",
   "metadata": {},
   "outputs": [],
   "source": [
    "4.\tWrite a Python Program To Find ASCII value of a character?\n"
   ]
  },
  {
   "cell_type": "code",
   "execution_count": 6,
   "id": "746f3a18",
   "metadata": {},
   "outputs": [
    {
     "name": "stdout",
     "output_type": "stream",
     "text": [
      "Enter a Charecter : p\n",
      "Ascii value of p is 112\n"
     ]
    }
   ],
   "source": [
    "#Ans:\n",
    "str = input(\"Enter a Charecter : \")\n",
    "print(\"Ascii value of {} is {}\".format(str,ord(str)))"
   ]
  },
  {
   "cell_type": "code",
   "execution_count": null,
   "id": "814035d1",
   "metadata": {},
   "outputs": [],
   "source": []
  },
  {
   "cell_type": "code",
   "execution_count": null,
   "id": "34cc00dc",
   "metadata": {},
   "outputs": [],
   "source": [
    "5.\tWrite a Python Program to Make a Simple Calculator with 4 basic mathematical operations?\n"
   ]
  },
  {
   "cell_type": "code",
   "execution_count": 7,
   "id": "2160b127",
   "metadata": {},
   "outputs": [
    {
     "name": "stdout",
     "output_type": "stream",
     "text": [
      "Enter num1 :45\n",
      "Enter num2 :58\n",
      "Enter + to add : \n",
      "Enter - to Sub :\n",
      "Enter * to multi :\n",
      "Enter / to div : +\n",
      "45.0 + 58.0 = 103.0\n"
     ]
    }
   ],
   "source": [
    "#Ans:\n",
    "x = float(input(\"Enter num1 :\"))\n",
    "y = float(input(\"Enter num2 :\"))\n",
    "\n",
    "op = input(\"Enter + to add : \\nEnter - to Sub :\\nEnter * to multi :\\nEnter / to div : \") \n",
    "\n",
    "add = x + y\n",
    "sub = x - y\n",
    "mul = x * y\n",
    "\n",
    "\n",
    "if op == \"+\":\n",
    "    print(\"{} + {} = {}\".format(x,y,add))\n",
    "elif op == \"-\":\n",
    "    print(\"{} - {} = {}\".format(x,y,sub))\n",
    "elif op == \"*\":\n",
    "    print(\"{} * {} = {}\".format(x,y,mul))\n",
    "elif op == \"/\":\n",
    "    if num1 == 0 or num2 == 0:\n",
    "        print(\"Division with zero is not possible\")\n",
    "    else:\n",
    "        div = x / y\n",
    "        print(\"{} / {} = {}\".format(x,y,div))\n",
    "else:\n",
    "    print(\"Invalid input\")"
   ]
  },
  {
   "cell_type": "code",
   "execution_count": null,
   "id": "174a9ee7",
   "metadata": {},
   "outputs": [],
   "source": []
  }
 ],
 "metadata": {
  "kernelspec": {
   "display_name": "Python 3 (ipykernel)",
   "language": "python",
   "name": "python3"
  },
  "language_info": {
   "codemirror_mode": {
    "name": "ipython",
    "version": 3
   },
   "file_extension": ".py",
   "mimetype": "text/x-python",
   "name": "python",
   "nbconvert_exporter": "python",
   "pygments_lexer": "ipython3",
   "version": "3.9.12"
  }
 },
 "nbformat": 4,
 "nbformat_minor": 5
}
