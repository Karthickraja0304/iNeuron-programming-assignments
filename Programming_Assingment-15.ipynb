{
 "cells": [
  {
   "cell_type": "code",
   "execution_count": null,
   "id": "cbc877f2",
   "metadata": {},
   "outputs": [],
   "source": [
    "Question 1:\n",
    "Please write a program using generator to print the numbers which can be divisible by 5 and 7 between 0 and n in comma separated form while n is input by console.\n",
    "Example:\n",
    "If the following n is given as input to the program:\n",
    "100\n",
    "Then, the output of the program should be:\n",
    "0,35,70"
   ]
  },
  {
   "cell_type": "code",
   "execution_count": 1,
   "id": "142f9edb",
   "metadata": {},
   "outputs": [
    {
     "name": "stdout",
     "output_type": "stream",
     "text": [
      "enter n : 55\n",
      "0,35\n"
     ]
    }
   ],
   "source": [
    "#Ans:\n",
    "def getno(n): \n",
    "    i = 0 \n",
    "    while i < n:\n",
    "        j = i\n",
    "        i += 1 \n",
    "        if j % 7 == 0 and j % 5 == 0:\n",
    "            yield j\n",
    "n = int(input('enter n : '))\n",
    "num =[]\n",
    "for i in getno(n): \n",
    "    num.append(str(i))\n",
    "    \n",
    "print(','.join(num))"
   ]
  },
  {
   "cell_type": "code",
   "execution_count": null,
   "id": "513c88c0",
   "metadata": {},
   "outputs": [],
   "source": []
  },
  {
   "cell_type": "code",
   "execution_count": null,
   "id": "72def095",
   "metadata": {},
   "outputs": [],
   "source": [
    "Question 2:\n",
    "Please write a program using generator to print the even numbers between 0 and n in comma separated form while n is input by console.\n",
    "Example:\n",
    "If the following n is given as input to the program:\n",
    "10\n",
    "Then, the output of the program should be:\n",
    "0,2,4,6,8,10"
   ]
  },
  {
   "cell_type": "code",
   "execution_count": 2,
   "id": "0d99db2d",
   "metadata": {},
   "outputs": [
    {
     "name": "stdout",
     "output_type": "stream",
     "text": [
      "enter n : 12\n",
      "0,2,4,6,8,10\n"
     ]
    }
   ],
   "source": [
    "#Ans:\n",
    "def getno(n): \n",
    "    i = 0 \n",
    "    while i < n:\n",
    "        j = i\n",
    "        i += 1 \n",
    "        if j % 2 == 0:\n",
    "            yield j\n",
    "n = int(input('enter n : '))\n",
    "num =[]\n",
    "for i in getno(n): \n",
    "    num.append(str(i))\n",
    "    \n",
    "print(','.join(num))"
   ]
  },
  {
   "cell_type": "code",
   "execution_count": null,
   "id": "746e027f",
   "metadata": {},
   "outputs": [],
   "source": []
  },
  {
   "cell_type": "code",
   "execution_count": null,
   "id": "51b79d4d",
   "metadata": {},
   "outputs": [],
   "source": [
    "Question 3:\n",
    "The Fibonacci Sequence is computed based on the following formula:\n",
    "f(n)=0 if n=0\n",
    "f(n)=1 if n=1\n",
    "f(n)=f(n-1)+f(n-2) if n>1\n",
    "Please write a program using list comprehension to print the Fibonacci Sequence in comma separated form with a given n input by console.\n",
    "Example:\n",
    "If the following n is given as input to the program:\n",
    "7\n",
    "\n",
    "Then, the output of the program should be:\n",
    "0,1,1,2,3,5,8,13"
   ]
  },
  {
   "cell_type": "code",
   "execution_count": 3,
   "id": "ffda3610",
   "metadata": {},
   "outputs": [
    {
     "name": "stdout",
     "output_type": "stream",
     "text": [
      "Enter a number :15\n",
      "0,1,1,2,3,5,8,13,21,34,55,89,144,233,377,610\n"
     ]
    }
   ],
   "source": [
    "#Ans:\n",
    "def fib(n):    \n",
    "    if n == 0: \n",
    "            return 0    \n",
    "    elif n == 1: \n",
    "            return 1    \n",
    "    else: \n",
    "            return fib(n-1)+fib(n-2)\n",
    "n=int(input('Enter a number :')) \n",
    "values = [str(fib(x)) for x in range(0, n+1)] \n",
    "print(\",\".join(values))"
   ]
  },
  {
   "cell_type": "code",
   "execution_count": null,
   "id": "ee0f56a9",
   "metadata": {},
   "outputs": [],
   "source": []
  },
  {
   "cell_type": "code",
   "execution_count": null,
   "id": "b8f66743",
   "metadata": {},
   "outputs": [],
   "source": [
    "Question 4:\n",
    "Assuming that we have some email addresses in the \"username@companyname.com\" format, please write program to print the user name of a given email address. Both user names and company names are composed of letters only.\n",
    "Example:\n",
    "If the following email address is given as input to the program:\n",
    "john@google.com\n",
    "Then, the output of the program should be:\n",
    "john"
   ]
  },
  {
   "cell_type": "code",
   "execution_count": 4,
   "id": "41909a50",
   "metadata": {},
   "outputs": [
    {
     "name": "stdout",
     "output_type": "stream",
     "text": [
      "Enter the email address : jackiesheroff@gmail.com\n",
      "User name :  jackiesheroff\n",
      "Company name :  gmail\n"
     ]
    }
   ],
   "source": [
    "#Ans:\n",
    "email = input(\"Enter the email address : \").split('@')\n",
    "company = str(email[1]).split('.')\n",
    "print(\"User name : \",email[0])\n",
    "print(\"Company name : \",company[0])"
   ]
  },
  {
   "cell_type": "code",
   "execution_count": null,
   "id": "42499e2f",
   "metadata": {},
   "outputs": [],
   "source": []
  },
  {
   "cell_type": "code",
   "execution_count": null,
   "id": "b89fa932",
   "metadata": {},
   "outputs": [],
   "source": [
    "Question 5:\n",
    "Define a class named Shape and its subclass Square. The Square class has an init function which takes a length as argument. Both classes have a area function which can print the area of the shape where Shape's area is 0 by default."
   ]
  },
  {
   "cell_type": "code",
   "execution_count": 5,
   "id": "38af2efa",
   "metadata": {},
   "outputs": [
    {
     "data": {
      "text/plain": [
       "81"
      ]
     },
     "execution_count": 5,
     "metadata": {},
     "output_type": "execute_result"
    }
   ],
   "source": [
    "#Ans:\n",
    "class Shape(object):\n",
    "  def __init__(self):\n",
    "    pass\n",
    "\n",
    "  def area(self):\n",
    "     return 0\n",
    "\n",
    "class Square(Shape):\n",
    "  def __init__(self,l):\n",
    "\n",
    "    \n",
    "    self.length = l\n",
    "\n",
    "  def area(self):\n",
    "    return self.length*self.length\n",
    "    \n",
    "\n",
    "\n",
    "obsquare = Square(9)\n",
    "\n",
    "\n",
    "obsquare.area()"
   ]
  },
  {
   "cell_type": "code",
   "execution_count": null,
   "id": "9c6d3aa4",
   "metadata": {},
   "outputs": [],
   "source": []
  }
 ],
 "metadata": {
  "kernelspec": {
   "display_name": "Python 3 (ipykernel)",
   "language": "python",
   "name": "python3"
  },
  "language_info": {
   "codemirror_mode": {
    "name": "ipython",
    "version": 3
   },
   "file_extension": ".py",
   "mimetype": "text/x-python",
   "name": "python",
   "nbconvert_exporter": "python",
   "pygments_lexer": "ipython3",
   "version": "3.9.12"
  }
 },
 "nbformat": 4,
 "nbformat_minor": 5
}
