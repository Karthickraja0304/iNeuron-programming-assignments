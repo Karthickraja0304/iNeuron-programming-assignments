{
 "cells": [
  {
   "cell_type": "code",
   "execution_count": null,
   "id": "1a161efb",
   "metadata": {},
   "outputs": [],
   "source": [
    "1.\tWrite a Python Program to find sum of array?"
   ]
  },
  {
   "cell_type": "code",
   "execution_count": 1,
   "id": "068711e9",
   "metadata": {},
   "outputs": [
    {
     "name": "stdout",
     "output_type": "stream",
     "text": [
      "Sum :  24\n"
     ]
    }
   ],
   "source": [
    "#Ans\n",
    "sum =0\n",
    "arr = [1,2,3,4,5,9]\n",
    "for i in range(0,len(arr)):\n",
    "    sum+=arr[i]\n",
    "print(\"Sum : \",sum)"
   ]
  },
  {
   "cell_type": "code",
   "execution_count": null,
   "id": "43944eaf",
   "metadata": {},
   "outputs": [],
   "source": []
  },
  {
   "cell_type": "code",
   "execution_count": null,
   "id": "47ff165d",
   "metadata": {},
   "outputs": [],
   "source": [
    "2.\tWrite a Python Program to find largest element in an array?"
   ]
  },
  {
   "cell_type": "code",
   "execution_count": 2,
   "id": "e0226c2a",
   "metadata": {},
   "outputs": [
    {
     "name": "stdout",
     "output_type": "stream",
     "text": [
      "77\n",
      "Largest element in [1, 2, 3, 4, 77, 9] is 77\n"
     ]
    }
   ],
   "source": [
    "#Ans\n",
    "c = 0\n",
    "arr = [1,2,3,4,77,9]\n",
    "for i in range(0, len(arr)):\n",
    "  if c > arr[i]:\n",
    "    print(c)\n",
    "  else :\n",
    "    c = arr[i]\n",
    "\n",
    "print(\"Largest element in {} is {}\".format(arr ,c) )"
   ]
  },
  {
   "cell_type": "code",
   "execution_count": null,
   "id": "fc287941",
   "metadata": {},
   "outputs": [],
   "source": []
  },
  {
   "cell_type": "code",
   "execution_count": null,
   "id": "c4516938",
   "metadata": {},
   "outputs": [],
   "source": [
    "3.\tWrite a Python Program for array rotation?\n"
   ]
  },
  {
   "cell_type": "code",
   "execution_count": 3,
   "id": "127c56d1",
   "metadata": {},
   "outputs": [
    {
     "name": "stdout",
     "output_type": "stream",
     "text": [
      "9\n",
      "77\n",
      "4\n",
      "3\n",
      "2\n"
     ]
    }
   ],
   "source": [
    "#Ans\n",
    "arr = [1,2,3,4,77,9]\n",
    "rot = []\n",
    "l = len(arr) -1\n",
    "for i in range(l , 0, -1):\n",
    "  print(arr[i])"
   ]
  },
  {
   "cell_type": "code",
   "execution_count": null,
   "id": "ebf880db",
   "metadata": {},
   "outputs": [],
   "source": []
  },
  {
   "cell_type": "code",
   "execution_count": null,
   "id": "bcffb920",
   "metadata": {},
   "outputs": [],
   "source": [
    "4.\tWrite a Python Program to Split the array and add the first part to the end?"
   ]
  },
  {
   "cell_type": "code",
   "execution_count": 7,
   "id": "4fb12ec3",
   "metadata": {},
   "outputs": [
    {
     "name": "stdout",
     "output_type": "stream",
     "text": [
      "Enter the lenth of arr : 5\n",
      "1\n",
      "2\n",
      "3\n",
      "4\n",
      "5\n",
      "Arr is  [1, 2, 3, 4, 5]\n",
      "Enter Rotation Right/Left : left\n",
      "Enter the number of elements to rotate  : 4\n",
      "After Left rotation :  [5, 1, 2, 3, 4]\n"
     ]
    }
   ],
   "source": [
    "#Ans\n",
    "l = int(input(\"Enter the lenth of arr : \"))\n",
    "arr = []\n",
    "\n",
    "for i in range(l):\n",
    "    arr.append(int(input()))\n",
    "print(\"Arr is \",arr)\n",
    "rotation = input(\"Enter Rotation Right/Left : \")\n",
    "noro = int(input(\"Enter the number of elements to rotate  : \"))\n",
    "if noro > l:\n",
    "    print(\"can not rotate as elements to rotate is larger then arr length\")\n",
    "else:\n",
    "    rarr = []\n",
    "    if rotation.upper() == \"RIGHT\":\n",
    "        rarr[:] = arr[-noro:] + arr[:(l-noro)]\n",
    "        print(\"After right rotation : \",rarr)\n",
    "    elif rotation.upper() == \"LEFT\":\n",
    "        rarr[:] = arr[noro:l] + arr[:noro] \n",
    "        print(\"After Left rotation : \",rarr)\n",
    "    else:\n",
    "        print(\"Wrong Entry\")"
   ]
  },
  {
   "cell_type": "code",
   "execution_count": null,
   "id": "8fcc94e9",
   "metadata": {},
   "outputs": [],
   "source": []
  },
  {
   "cell_type": "code",
   "execution_count": null,
   "id": "b9b82480",
   "metadata": {},
   "outputs": [],
   "source": [
    "5.\tWrite a Python Program to check if given array is Monotonic?"
   ]
  },
  {
   "cell_type": "code",
   "execution_count": 8,
   "id": "7b944fd5",
   "metadata": {},
   "outputs": [
    {
     "name": "stdout",
     "output_type": "stream",
     "text": [
      "Enter the lenth of your list : 5\n",
      "5\n",
      "10\n",
      "15\n",
      "20\n",
      "25\n",
      "The List   [5, 10, 15, 20, 25]\n",
      "Enter the number of elements to split  : 3\n",
      "The split list is : [5, 10, 15]\n",
      "The List after split and add : [20, 25, 5, 10, 15]\n"
     ]
    }
   ],
   "source": [
    "#Ans\n",
    "l = int(input(\"Enter the lenth of your list : \"))\n",
    "arr = []\n",
    "\n",
    "for i in range(l):\n",
    "    arr.append(int(input()))\n",
    "print(\"The List  \",arr)\n",
    "\n",
    "noro = int(input(\"Enter the number of elements to split  : \"))\n",
    "if noro > l:\n",
    "    print(\"can not split as elements to split is larger then list lengh\")\n",
    "else:\n",
    "    print(\"The split list is :\",arr[:noro])\n",
    "    rarr[:] = arr[noro:l] + arr[:noro]\n",
    "    print(\"The List after split and add :\", rarr)"
   ]
  },
  {
   "cell_type": "code",
   "execution_count": null,
   "id": "5001ed60",
   "metadata": {},
   "outputs": [],
   "source": []
  }
 ],
 "metadata": {
  "kernelspec": {
   "display_name": "Python 3 (ipykernel)",
   "language": "python",
   "name": "python3"
  },
  "language_info": {
   "codemirror_mode": {
    "name": "ipython",
    "version": 3
   },
   "file_extension": ".py",
   "mimetype": "text/x-python",
   "name": "python",
   "nbconvert_exporter": "python",
   "pygments_lexer": "ipython3",
   "version": "3.9.12"
  }
 },
 "nbformat": 4,
 "nbformat_minor": 5
}
